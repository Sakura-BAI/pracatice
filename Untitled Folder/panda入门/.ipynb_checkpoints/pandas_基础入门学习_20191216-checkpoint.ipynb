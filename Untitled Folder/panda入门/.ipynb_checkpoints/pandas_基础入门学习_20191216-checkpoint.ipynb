{
 "cells": [
  {
   "cell_type": "code",
   "execution_count": null,
   "metadata": {},
   "outputs": [],
   "source": [
    "# pandas是\n",
    "# 基于NumPy数组构建的，特别是基于数组的函数和不使用for循环的数据处理\n",
    "\n",
    "# 相关联的几个库,分析库 scikit-learn and statsmodels\n",
    "# 数值计算工具,NumPy\n",
    "# 可视化图库,matplotlib"
   ]
  }
 ],
 "metadata": {
  "kernelspec": {
   "display_name": "Python 3",
   "language": "python",
   "name": "python3"
  },
  "language_info": {
   "codemirror_mode": {
    "name": "ipython",
    "version": 3
   },
   "file_extension": ".py",
   "mimetype": "text/x-python",
   "name": "python",
   "nbconvert_exporter": "python",
   "pygments_lexer": "ipython3",
   "version": "3.8.0"
  }
 },
 "nbformat": 4,
 "nbformat_minor": 2
}
